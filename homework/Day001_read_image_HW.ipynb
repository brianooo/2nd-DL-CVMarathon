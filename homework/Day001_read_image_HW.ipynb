{
 "cells": [
  {
   "cell_type": "markdown",
   "metadata": {},
   "source": [
    "# 作業\n",
    "\n",
    "思考一下我們前面有提到圖片是矩陣，但維度可能會不一樣\n",
    "例如灰階圖只有兩個維度，RGB 彩圖則有 3 個維度\n",
    "\n",
    "假如今天我們把 RGB 3 個維度拆開來看會有甚麼不同的效果呢？"
   ]
  },
  {
   "cell_type": "code",
   "execution_count": 24,
   "metadata": {},
   "outputs": [],
   "source": [
    "import cv2\n",
    "img_path = 'lena.png'\n",
    "\n",
    "img = cv2.imread(img_path, cv2.IMREAD_COLOR)\n",
    "row, col = img.shape[0], img.shape[1]\n",
    "\n",
    "img_b = img[:, :, 0]       # 取出即變 2D\n",
    "img_g = img[:, :, 1] \n",
    "img_r = img[:, :, 2] \n",
    "\n",
    "cv2.imshow('b', img_b)\n",
    "cv2.imshow('g', img_g)\n",
    "cv2.imshow('r', img_r)\n",
    "\n",
    "cv2.waitKey(0)\n",
    "cv2.destroyAllWindows()"
   ]
  },
  {
   "cell_type": "code",
   "execution_count": 25,
   "metadata": {},
   "outputs": [
    {
     "data": {
      "text/plain": [
       "(512, 512)"
      ]
     },
     "execution_count": 25,
     "metadata": {},
     "output_type": "execute_result"
    }
   ],
   "source": [
    "img_b.shape"
   ]
  },
  {
   "cell_type": "code",
   "execution_count": 26,
   "metadata": {},
   "outputs": [
    {
     "name": "stdout",
     "output_type": "stream",
     "text": [
      "(512, 512, 1)\n",
      "(512, 512, 1)\n"
     ]
    }
   ],
   "source": [
    "import numpy as np\n",
    "zero = np.zeros((row, col, 1), dtype=img.dtype)\n",
    "\n",
    "print(zero.shape)\n",
    "\n",
    "# img_b = img_b.reshape((row, col, 1))                       # 2D to 3D\n",
    "# img_g = img_g.reshape((row, col, 1))\n",
    "# img_r = img_r.reshape((row, col, 1))\n",
    "\n",
    "img_b = img_b[:,:,np.newaxis]                                # 2D to 3D\n",
    "img_g = img_g[:,:,np.newaxis]\n",
    "img_r = img_r[:,:,np.newaxis]\n",
    "\n",
    "print(img_b.shape)\n",
    "\n",
    "img_b = np.concatenate([img_b, zero, zero], axis=2)          # 其他兩個通道做成 0\n",
    "img_g = np.concatenate([zero, img_g, zero], axis=2)\n",
    "img_r = np.concatenate([zero, zero, img_r], axis=2)\n",
    "\n",
    "cv2.imshow('newb', img_b)                                    # 使秀圖仍然保留個別 BGR 顏色\n",
    "cv2.imshow('newg', img_g)\n",
    "cv2.imshow('newr', img_r)\n",
    "\n",
    "cv2.waitKey(0)\n",
    "cv2.destroyAllWindows()"
   ]
  },
  {
   "cell_type": "code",
   "execution_count": null,
   "metadata": {},
   "outputs": [],
   "source": []
  }
 ],
 "metadata": {
  "kernelspec": {
   "display_name": "Python 3",
   "language": "python",
   "name": "python3"
  },
  "language_info": {
   "codemirror_mode": {
    "name": "ipython",
    "version": 3
   },
   "file_extension": ".py",
   "mimetype": "text/x-python",
   "name": "python",
   "nbconvert_exporter": "python",
   "pygments_lexer": "ipython3",
   "version": "3.7.4"
  }
 },
 "nbformat": 4,
 "nbformat_minor": 2
}
