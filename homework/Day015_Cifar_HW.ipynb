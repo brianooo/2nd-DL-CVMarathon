{
 "cells": [
  {
   "cell_type": "markdown",
   "metadata": {},
   "source": [
    "## 『本次練習內容』\n",
    "#### 運用這幾天所學觀念搭建一個CNN分類器"
   ]
  },
  {
   "cell_type": "markdown",
   "metadata": {},
   "source": [
    "## 『本次練習目的』\n",
    "  #### 熟悉CNN分類器搭建步驟與原理\n",
    "  #### 學員們可以嘗試不同搭法，如使用不同的Maxpooling層，用GlobalAveragePooling取代Flatten等等"
   ]
  },
  {
   "cell_type": "code",
   "execution_count": 1,
   "metadata": {},
   "outputs": [
    {
     "name": "stderr",
     "output_type": "stream",
     "text": [
      "Using TensorFlow backend.\n"
     ]
    }
   ],
   "source": [
    "from keras.models import Sequential\n",
    "from keras.layers import Convolution2D\n",
    "from keras.layers import MaxPooling2D\n",
    "from keras.layers import Flatten\n",
    "from keras.layers import Dense\n",
    "from keras.layers import Dropout\n",
    "from keras.layers import BatchNormalization\n",
    "from keras.datasets import cifar10\n",
    "import numpy as np\n",
    "import tensorflow as tf\n",
    "from sklearn.preprocessing import OneHotEncoder\n"
   ]
  },
  {
   "cell_type": "code",
   "execution_count": 2,
   "metadata": {},
   "outputs": [
    {
     "name": "stdout",
     "output_type": "stream",
     "text": [
      "Downloading data from https://www.cs.toronto.edu/~kriz/cifar-10-python.tar.gz\n",
      "170500096/170498071 [==============================] - 431s 3us/step\n",
      "(50000, 32, 32, 3)\n"
     ]
    }
   ],
   "source": [
    "(x_train, y_train), (x_test, y_test) = cifar10.load_data()\n",
    "\n",
    "print(x_train.shape) #(50000, 32, 32, 3)\n",
    "\n",
    "## Normalize Data\n",
    "def normalize(X_train,X_test):\n",
    "        mean = np.mean(X_train,axis=(0,1,2,3))\n",
    "        std = np.std(X_train, axis=(0, 1, 2, 3))\n",
    "        X_train = (X_train-mean)/(std+1e-7)\n",
    "        X_test = (X_test-mean)/(std+1e-7) \n",
    "        return X_train, X_test,mean,std\n",
    "    \n",
    "    \n",
    "## Normalize Training and Testset    \n",
    "x_train, x_test,mean_train,std_train = normalize(x_train, x_test) "
   ]
  },
  {
   "cell_type": "code",
   "execution_count": 3,
   "metadata": {},
   "outputs": [
    {
     "name": "stderr",
     "output_type": "stream",
     "text": [
      "C:\\Users\\brian\\Anaconda3\\lib\\site-packages\\sklearn\\preprocessing\\_encoders.py:415: FutureWarning: The handling of integer data will change in version 0.22. Currently, the categories are determined based on the range [0, max(values)], while in the future they will be determined based on the unique values.\n",
      "If you want the future behaviour and silence this warning, you can specify \"categories='auto'\".\n",
      "In case you used a LabelEncoder before this OneHotEncoder to convert the categories to integers, then you can now use the OneHotEncoder directly.\n",
      "  warnings.warn(msg, FutureWarning)\n"
     ]
    }
   ],
   "source": [
    "## OneHot Label 由(None, 1)-(None, 10)\n",
    "## ex. label=2,變成[0,0,1,0,0,0,0,0,0,0]\n",
    "one_hot=OneHotEncoder()\n",
    "y_train=one_hot.fit_transform(y_train).toarray()\n",
    "y_test=one_hot.transform(y_test).toarray()"
   ]
  },
  {
   "cell_type": "code",
   "execution_count": 4,
   "metadata": {},
   "outputs": [
    {
     "name": "stdout",
     "output_type": "stream",
     "text": [
      "WARNING:tensorflow:From C:\\Users\\brian\\Anaconda3\\lib\\site-packages\\keras\\backend\\tensorflow_backend.py:66: The name tf.get_default_graph is deprecated. Please use tf.compat.v1.get_default_graph instead.\n",
      "\n",
      "WARNING:tensorflow:From C:\\Users\\brian\\Anaconda3\\lib\\site-packages\\keras\\backend\\tensorflow_backend.py:541: The name tf.placeholder is deprecated. Please use tf.compat.v1.placeholder instead.\n",
      "\n",
      "WARNING:tensorflow:From C:\\Users\\brian\\Anaconda3\\lib\\site-packages\\keras\\backend\\tensorflow_backend.py:4432: The name tf.random_uniform is deprecated. Please use tf.random.uniform instead.\n",
      "\n",
      "WARNING:tensorflow:From C:\\Users\\brian\\Anaconda3\\lib\\site-packages\\keras\\backend\\tensorflow_backend.py:190: The name tf.get_default_session is deprecated. Please use tf.compat.v1.get_default_session instead.\n",
      "\n",
      "WARNING:tensorflow:From C:\\Users\\brian\\Anaconda3\\lib\\site-packages\\keras\\backend\\tensorflow_backend.py:197: The name tf.ConfigProto is deprecated. Please use tf.compat.v1.ConfigProto instead.\n",
      "\n",
      "WARNING:tensorflow:From C:\\Users\\brian\\Anaconda3\\lib\\site-packages\\keras\\backend\\tensorflow_backend.py:2041: The name tf.nn.fused_batch_norm is deprecated. Please use tf.compat.v1.nn.fused_batch_norm instead.\n",
      "\n",
      "WARNING:tensorflow:From C:\\Users\\brian\\Anaconda3\\lib\\site-packages\\keras\\backend\\tensorflow_backend.py:4267: The name tf.nn.max_pool is deprecated. Please use tf.nn.max_pool2d instead.\n",
      "\n",
      "WARNING:tensorflow:From C:\\Users\\brian\\Anaconda3\\lib\\site-packages\\keras\\optimizers.py:793: The name tf.train.Optimizer is deprecated. Please use tf.compat.v1.train.Optimizer instead.\n",
      "\n",
      "WARNING:tensorflow:From C:\\Users\\brian\\Anaconda3\\lib\\site-packages\\tensorflow\\python\\ops\\math_grad.py:1250: add_dispatch_support.<locals>.wrapper (from tensorflow.python.ops.array_ops) is deprecated and will be removed in a future version.\n",
      "Instructions for updating:\n",
      "Use tf.where in 2.0, which has the same broadcast rule as np.where\n"
     ]
    },
    {
     "name": "stderr",
     "output_type": "stream",
     "text": [
      "C:\\Users\\brian\\Anaconda3\\lib\\site-packages\\ipykernel_launcher.py:23: UserWarning: Update your `Dense` call to the Keras 2 API: `Dense(activation=\"softmax\", units=10)`\n"
     ]
    },
    {
     "name": "stdout",
     "output_type": "stream",
     "text": [
      "Epoch 1/100\n",
      "50000/50000 [==============================] - 13s 255us/step - loss: 1.4120 - acc: 0.5305\n",
      "Epoch 2/100\n",
      "50000/50000 [==============================] - 9s 186us/step - loss: 0.9104 - acc: 0.6792\n",
      "Epoch 3/100\n",
      "50000/50000 [==============================] - 8s 170us/step - loss: 0.7254 - acc: 0.7443 4s - loss:\n",
      "Epoch 4/100\n",
      "50000/50000 [==============================] - 8s 159us/step - loss: 0.5525 - acc: 0.8072\n",
      "Epoch 5/100\n",
      "50000/50000 [==============================] - 8s 159us/step - loss: 0.3995 - acc: 0.8600\n",
      "Epoch 6/100\n",
      "50000/50000 [==============================] - 8s 159us/step - loss: 0.2778 - acc: 0.9032 4s - loss: 0.2483 - acc:  - ETA: 3s - loss: 0.2534 - a - ETA: 3s - l - ETA: 1s - \n",
      "Epoch 7/100\n",
      "50000/50000 [==============================] - 8s 158us/step - loss: 0.1954 - acc: 0.9320 1\n",
      "Epoch 8/100\n",
      "50000/50000 [==============================] - 8s 159us/step - loss: 0.1281 - acc: 0.9562\n",
      "Epoch 9/100\n",
      "50000/50000 [==============================] - 8s 158us/step - loss: 0.1133 - acc: 0.9613 3s - loss: 0.1002 - acc: 0.9 - ETA: 2s - loss: 0.10 - ETA: 1 - ETA: 0s - loss: 0.1127 - acc: 0.961\n",
      "Epoch 10/100\n",
      "50000/50000 [==============================] - 8s 158us/step - loss: 0.1128 - acc: 0.9603 1s - loss: 0.1066 - ac - ETA: 0s - loss: 0.1096 - ac\n",
      "Epoch 11/100\n",
      "50000/50000 [==============================] - 8s 159us/step - loss: 0.0920 - acc: 0.9678\n",
      "Epoch 12/100\n",
      "50000/50000 [==============================] - 8s 158us/step - loss: 0.0790 - acc: 0.9737 0s - loss: 0.0785 - acc: 0.97\n",
      "Epoch 13/100\n",
      "50000/50000 [==============================] - 8s 158us/step - loss: 0.0777 - acc: 0.9742\n",
      "Epoch 14/100\n",
      "50000/50000 [==============================] - 8s 159us/step - loss: 0.0844 - acc: 0.9715 4s \n",
      "Epoch 15/100\n",
      "50000/50000 [==============================] - 8s 158us/step - loss: 0.0657 - acc: 0.9785\n",
      "Epoch 16/100\n",
      "50000/50000 [==============================] - 8s 159us/step - loss: 0.0539 - acc: 0.9815\n",
      "Epoch 17/100\n",
      "50000/50000 [==============================] - 8s 160us/step - loss: 0.0622 - acc: 0.9796 1s - loss: 0.0599 - acc: - ETA: 0s - loss: 0.0614 - a\n",
      "Epoch 18/100\n",
      "50000/50000 [==============================] - 8s 157us/step - loss: 0.0596 - acc: 0.9807\n",
      "Epoch 19/100\n",
      "50000/50000 [==============================] - 8s 157us/step - loss: 0.0457 - acc: 0.9842\n",
      "Epoch 20/100\n",
      "50000/50000 [==============================] - 8s 158us/step - loss: 0.0448 - acc: 0.9854 6s \n",
      "Epoch 21/100\n",
      "50000/50000 [==============================] - 8s 156us/step - loss: 0.0407 - acc: 0.9873 0s - loss: 0.0406 - acc: 0.987\n",
      "Epoch 22/100\n",
      "50000/50000 [==============================] - 8s 159us/step - loss: 0.0549 - acc: 0.9831\n",
      "Epoch 23/100\n",
      "50000/50000 [==============================] - 8s 158us/step - loss: 0.0559 - acc: 0.9831ETA: 0s - loss: 0.0535 - acc:  - ETA: 0s - loss: 0.0544 - acc\n",
      "Epoch 24/100\n",
      "50000/50000 [==============================] - 8s 157us/step - loss: 0.0458 - acc: 0.9850\n",
      "Epoch 25/100\n",
      "50000/50000 [==============================] - 8s 158us/step - loss: 0.0327 - acc: 0.9893 8s - loss: 0.0116 - acc\n",
      "Epoch 26/100\n",
      "50000/50000 [==============================] - 8s 156us/step - loss: 0.0394 - acc: 0.9875\n",
      "Epoch 27/100\n",
      "50000/50000 [==============================] - 8s 161us/step - loss: 0.0401 - acc: 0.9876 6s - - ETA: 5s - loss: 0.0365 - a - ETA: 2s - loss: 0.0366 - acc: 0 - ETA: 1s - loss: 0.0369 - acc - ETA: 1s - lo\n",
      "Epoch 28/100\n",
      "50000/50000 [==============================] - 8s 159us/step - loss: 0.0382 - acc: 0.9878\n",
      "Epoch 29/100\n",
      "50000/50000 [==============================] - 8s 158us/step - loss: 0.0413 - acc: 0.9870 0s - loss: 0.0395 - \n",
      "Epoch 30/100\n",
      "50000/50000 [==============================] - 8s 157us/step - loss: 0.0339 - acc: 0.9898 0s - loss: 0.0326 - \n",
      "Epoch 31/100\n",
      "50000/50000 [==============================] - 8s 158us/step - loss: 0.0334 - acc: 0.9893\n",
      "Epoch 32/100\n",
      "50000/50000 [==============================] - 8s 157us/step - loss: 0.0268 - acc: 0.9912\n",
      "Epoch 33/100\n",
      "50000/50000 [==============================] - 8s 158us/step - loss: 0.0385 - acc: 0.9882\n",
      "Epoch 34/100\n",
      "50000/50000 [==============================] - 8s 158us/step - loss: 0.0338 - acc: 0.9895\n",
      "Epoch 35/100\n",
      "50000/50000 [==============================] - 8s 159us/step - loss: 0.0330 - acc: 0.9897 4s - loss: 0.033 - ETA: 3s - loss: 0.0345 - E\n",
      "Epoch 36/100\n",
      "50000/50000 [==============================] - 8s 158us/step - loss: 0.0236 - acc: 0.9927\n",
      "Epoch 37/100\n",
      "50000/50000 [==============================] - 8s 162us/step - loss: 0.0282 - acc: 0.9919 3s - loss: 0.0215 - acc: 0.9 - ETA: 3s - los - ETA: 1s - loss:  - ETA: 0s - loss: 0.0273 - ac\n",
      "Epoch 38/100\n",
      "50000/50000 [==============================] - 8s 162us/step - loss: 0.0356 - acc: 0.9889 ETA: 5s - lo - ETA: 3s - l \n",
      "Epoch 39/100\n",
      "50000/50000 [==============================] - 8s 162us/step - loss: 0.0321 - acc: 0.9905 1s - \n",
      "Epoch 40/100\n",
      "50000/50000 [==============================] - 8s 161us/step - loss: 0.0326 - acc: 0.9900- ETA: 1s - \n",
      "Epoch 41/100\n",
      "50000/50000 [==============================] - 8s 163us/step - loss: 0.0234 - acc: 0.9929 7s - lo - ETA: 6s - lo - ETA: 4s - loss: 0.0207 - acc: 0. - ETA: 4s - loss: 0.0203 - acc: 0 - ETA: 4s - los - ETA: 2s - loss: 0.0203 - acc: 0.993 - ETA: 2s - loss: 0.0205 - acc: - ETA: 2s - loss: 0.0201 - acc: 0. - ETA: 2s - loss: 0.0204 - acc: 0.9 - ETA: 1s\n",
      "Epoch 42/100\n",
      "50000/50000 [==============================] - 8s 161us/step - loss: 0.0206 - acc: 0.9936 1s - loss: 0.0208 - acc: 0.993 - ETA: 1s - loss: 0.0207 - a - ETA: 0s - loss: 0.0206 - acc\n",
      "Epoch 43/100\n",
      "50000/50000 [==============================] - 8s 160us/step - loss: 0.0193 - acc: 0.9936 1s - loss: 0.0169 - acc:  - ETA: 0s - loss: 0.0169 \n",
      "Epoch 44/100\n",
      "50000/50000 [==============================] - 8s 161us/step - loss: 0.0295 - acc: 0.9915 5s - loss: 0.0223 - acc - ETA: 5s - loss: 0.0218 - acc:   - ETA - ETA: 0s - loss: 0.0294 - acc: 0.991\n",
      "Epoch 45/100\n",
      "50000/50000 [==============================] - 8s 161us/step - loss: 0.0316 - acc: 0.9905\n",
      "Epoch 46/100\n",
      "50000/50000 [==============================] - 8s 161us/step - loss: 0.0313 - acc: 0.9908 6s - loss: 0.0280  - ETA: 5s - loss: 0.0\n",
      "Epoch 47/100\n",
      "50000/50000 [==============================] - 8s 159us/step - loss: 0.0276 - acc: 0.9918\n",
      "Epoch 48/100\n",
      "50000/50000 [==============================] - 8s 160us/step - loss: 0.0200 - acc: 0.9942 5s - loss: 0.0140 - acc: 0 - ETA: 5s - loss: 0.0162 - acc: \n",
      "Epoch 49/100\n",
      "50000/50000 [==============================] - 8s 159us/step - loss: 0.0166 - acc: 0.9952 7s - loss: 0.00 - ETA: 6s - loss: 0.0092 - acc: 0.99 - ETA: 6s - loss: 0.00 -  - ETA: 0s - loss: 0.0166 - ac\n",
      "Epoch 50/100\n",
      "50000/50000 [==============================] - 8s 160us/step - loss: 0.0174 - acc: 0.9945\n",
      "Epoch 51/100\n",
      "50000/50000 [==============================] - 8s 159us/step - loss: 0.0221 - acc: 0.9935 1s - loss: 0.0204 - acc: 0.99 - ETA: 0s - loss: 0.020\n",
      "Epoch 52/100\n",
      "50000/50000 [==============================] - 8s 162us/step - loss: 0.0231 - acc: 0.9929 2s - loss: 0.0233 - a - ETA: 1\n",
      "Epoch 53/100\n",
      "50000/50000 [==============================] - 8s 158us/step - loss: 0.0225 - acc: 0.9933\n",
      "Epoch 54/100\n",
      "50000/50000 [==============================] - 8s 157us/step - loss: 0.0242 - acc: 0.9932\n",
      "Epoch 55/100\n",
      "50000/50000 [==============================] - 8s 159us/step - loss: 0.0235 - acc: 0.9938 ETA: 4s - loss: 0 - ETA: 3s - ETA: 1s - l\n",
      "Epoch 56/100\n",
      "50000/50000 [==============================] - 8s 157us/step - loss: 0.0244 - acc: 0.9932 1s - loss: 0.02 - ETA: 0s - loss: 0.0236 - ac\n",
      "Epoch 57/100\n",
      "50000/50000 [==============================] - 8s 158us/step - loss: 0.0202 - acc: 0.9945  - ETA: 4s - loss:  - ETA: 3s - loss: 0.0191 - ETA: 2s - loss: 0.0192 - acc:\n",
      "Epoch 58/100\n",
      "50000/50000 [==============================] - 8s 157us/step - loss: 0.0192 - acc: 0.9942 1s - loss:\n",
      "Epoch 59/100\n",
      "50000/50000 [==============================] - 8s 157us/step - loss: 0.0192 - acc: 0.9943ETA: 1s - loss: 0.0165 - - ETA: 0s - loss: 0.017\n",
      "Epoch 60/100\n",
      "50000/50000 [==============================] - 8s 157us/step - loss: 0.0206 - acc: 0.9943 0s - loss: 0.0203 - acc: 0.\n",
      "Epoch 61/100\n"
     ]
    },
    {
     "name": "stdout",
     "output_type": "stream",
     "text": [
      "50000/50000 [==============================] - 8s 157us/step - loss: 0.0266 - acc: 0.9931 2s - los - ETA: 1s - loss:  - ETA: 0s - loss: 0.0263 - acc: 0.9 - ETA: 0s - loss: 0.0265 - acc: 0.99\n",
      "Epoch 62/100\n",
      "50000/50000 [==============================] - 8s 157us/step - loss: 0.0218 - acc: 0.9939\n",
      "Epoch 63/100\n",
      "50000/50000 [==============================] - 8s 160us/step - loss: 0.0167 - acc: 0.9951 5s - loss: \n",
      "Epoch 64/100\n",
      "50000/50000 [==============================] - 8s 158us/step - loss: 0.0142 - acc: 0.9957\n",
      "Epoch 65/100\n",
      "50000/50000 [==============================] - 8s 161us/step - loss: 0.0160 - acc: 0.9953\n",
      "Epoch 66/100\n",
      "50000/50000 [==============================] - 8s 158us/step - loss: 0.0220 - acc: 0.9940 6s - l - ETA: 4s -  - ETA: 0s - loss: 0.0219 - acc\n",
      "Epoch 67/100\n",
      "50000/50000 [==============================] - 8s 157us/step - loss: 0.0170 - acc: 0.9952 1s - loss: 0.0162 - acc: 0 - ETA: 1s - lo\n",
      "Epoch 68/100\n",
      "50000/50000 [==============================] - 8s 160us/step - loss: 0.0146 - acc: 0.9957 6s - loss: 0. - ETA: 5s -  - - ETA: 2s - loss: 0.0133 - acc: 0.99 - ETA: 1\n",
      "Epoch 69/100\n",
      "50000/50000 [==============================] - 8s 158us/step - loss: 0.0209 - acc: 0.9943 1s \n",
      "Epoch 70/100\n",
      "50000/50000 [==============================] - 8s 163us/step - loss: 0.0167 - acc: 0.9955\n",
      "Epoch 71/100\n",
      "50000/50000 [==============================] - 8s 162us/step - loss: 0.0207 - acc: 0.9941\n",
      "Epoch 72/100\n",
      "50000/50000 [==============================] - 8s 159us/step - loss: 0.0114 - acc: 0.9964 2s - loss: 0.011 - ETA: 1s - loss: 0.0113 - - ETA: 0s - loss: 0.0115 - acc:\n",
      "Epoch 73/100\n",
      "50000/50000 [==============================] - 8s 156us/step - loss: 0.0107 - acc: 0.9969 7s - loss: 0.0234  - ETA: 6s - loss: 0.0 - ETA: 5s - ETA: 1s - loss: 0.0099 - acc: 0 - ETA: 1s - loss: 0.0\n",
      "Epoch 74/100\n",
      "50000/50000 [==============================] - 8s 159us/step - loss: 0.0163 - acc: 0.9953 \n",
      "Epoch 75/100\n",
      "50000/50000 [==============================] - 8s 159us/step - loss: 0.0212 - acc: 0.9945 ETA: - ETA: 0s - loss: 0.0200 \n",
      "Epoch 76/100\n",
      "50000/50000 [==============================] - 8s 156us/step - loss: 0.0162 - acc: 0.9953\n",
      "Epoch 77/100\n",
      "50000/50000 [==============================] - 8s 157us/step - loss: 0.0205 - acc: 0.9947 5s - loss: - ETA: 4s - loss: 0.02 - ETA: 3s - loss: 0.02 \n",
      "Epoch 78/100\n",
      "50000/50000 [==============================] - 8s 161us/step - loss: 0.0165 - acc: 0.9954 1s - loss: 0.0173 - - ETA: 1s - loss: 0\n",
      "Epoch 79/100\n",
      "50000/50000 [==============================] - 8s 156us/step - loss: 0.0085 - acc: 0.9972 2s - loss: 0.00 - ETA: 1s - loss: 0.0\n",
      "Epoch 80/100\n",
      "50000/50000 [==============================] - 8s 157us/step - loss: 0.0112 - acc: 0.9967 7s - loss: 0.01 - ETA: 6s - loss - ETA: 4s - loss: 0.0 - E - ETA: 1s \n",
      "Epoch 81/100\n",
      "50000/50000 [==============================] - 8s 157us/step - loss: 0.0143 - acc: 0.9956\n",
      "Epoch 82/100\n",
      "50000/50000 [==============================] - 8s 156us/step - loss: 0.0185 - acc: 0.9946\n",
      "Epoch 83/100\n",
      "50000/50000 [==============================] - 8s 159us/step - loss: 0.0169 - acc: 0.9957\n",
      "Epoch 84/100\n",
      "50000/50000 [==============================] - 8s 157us/step - loss: 0.0165 - acc: 0.9953\n",
      "Epoch 85/100\n",
      "50000/50000 [==============================] - 8s 156us/step - loss: 0.0135 - acc: 0.9963\n",
      "Epoch 86/100\n",
      "50000/50000 [==============================] - 8s 157us/step - loss: 0.0113 - acc: 0.9969 5s - loss: 0.0073 - acc - ET\n",
      "Epoch 87/100\n",
      "50000/50000 [==============================] - 8s 156us/step - loss: 0.0145 - acc: 0.9959\n",
      "Epoch 88/100\n",
      "50000/50000 [==============================] - 8s 158us/step - loss: 0.0145 - acc: 0.9959\n",
      "Epoch 89/100\n",
      "50000/50000 [==============================] - 8s 157us/step - loss: 0.0162 - acc: 0.9956 0s - loss: 0.0167 - \n",
      "Epoch 90/100\n",
      "50000/50000 [==============================] - 8s 157us/step - loss: 0.0136 - acc: 0.9958 0s - loss: 0.0136 - acc: 0.99\n",
      "Epoch 91/100\n",
      "50000/50000 [==============================] - 8s 157us/step - loss: 0.0153 - acc: 0.9959\n",
      "Epoch 92/100\n",
      "50000/50000 [==============================] - 8s 156us/step - loss: 0.0121 - acc: 0.9968 6s - loss:  - ETA: 5s - loss: 0.0102 - acc:  - - ETA: 2s - lo - ETA: 1s - loss: 0.0110 -  - ETA: 0s - loss: 0.0118 - \n",
      "Epoch 93/100\n",
      "50000/50000 [==============================] - 8s 158us/step - loss: 0.0148 - acc: 0.9960 0s - loss: 0.01\n",
      "Epoch 94/100\n",
      "50000/50000 [==============================] - 8s 158us/step - loss: 0.0096 - acc: 0.9974 4s - loss: 0.0101 - acc: 0 - ETA: 4s - loss: 0.0102 -  - ETA: 3s - - ETA: 1s\n",
      "Epoch 95/100\n",
      "50000/50000 [==============================] - 8s 157us/step - loss: 0.0145 - acc: 0.9961 3s - loss: \n",
      "Epoch 96/100\n",
      "50000/50000 [==============================] - 8s 156us/step - loss: 0.0192 - acc: 0.9953 5s - ETA: 3s - los - ETA: 2s - loss: 0.0198 -  - ETA: 1s - los\n",
      "Epoch 97/100\n",
      "50000/50000 [==============================] - 8s 159us/step - loss: 0.0128 - acc: 0.9963\n",
      "Epoch 98/100\n",
      "50000/50000 [==============================] - 8s 157us/step - loss: 0.0100 - acc: 0.9972 0s - loss: 0.0100 - acc: 0.9\n",
      "Epoch 99/100\n",
      "50000/50000 [==============================] - 8s 158us/step - loss: 0.0091 - acc: 0.9974TA: 2s - loss: 0.0085 - acc: 0. - ETA: 2s - loss: 0.0 - ETA: 1s - loss: 0.\n",
      "Epoch 100/100\n",
      "50000/50000 [==============================] - 8s 159us/step - loss: 0.0171 - acc: 0.9954\n"
     ]
    },
    {
     "data": {
      "text/plain": [
       "<keras.callbacks.History at 0x211bc43af48>"
      ]
     },
     "execution_count": 4,
     "metadata": {},
     "output_type": "execute_result"
    }
   ],
   "source": [
    "\n",
    "classifier=Sequential()\n",
    "\n",
    "#卷積組合\n",
    "classifier.add(Convolution2D(32, (3, 3), input_shape=x_train.shape[1:], activation='relu'))#32,3,3,input_shape=(32,32,3),activation='relu''\n",
    "classifier.add(BatchNormalization())\n",
    "\n",
    "'''自己決定MaxPooling2D放在哪裡'''\n",
    "#classifier.add(MaxPooling2D(pool_size=(2,2)))\n",
    "\n",
    "#卷積組合\n",
    "classifier.add(Convolution2D(64, (3, 3), activation='relu'))\n",
    "classifier.add(BatchNormalization())\n",
    "\n",
    "classifier.add(MaxPooling2D(pool_size=(2,2)))\n",
    "\n",
    "#flatten\n",
    "classifier.add(Flatten())\n",
    "\n",
    "#FC\n",
    "classifier.add(Dense(256, activation='relu')) #output_dim=100,activation=relu\n",
    "\n",
    "#輸出\n",
    "classifier.add(Dense(output_dim=10,activation='softmax'))\n",
    "\n",
    "#超過兩個就要選categorical_crossentrophy\n",
    "classifier.compile(optimizer = 'adam', loss = 'categorical_crossentropy', metrics = ['accuracy'])\n",
    "classifier.fit(x_train,y_train,batch_size=100,epochs=100)"
   ]
  },
  {
   "cell_type": "code",
   "execution_count": 6,
   "metadata": {},
   "outputs": [
    {
     "name": "stdout",
     "output_type": "stream",
     "text": [
      "Model: \"sequential_1\"\n",
      "_________________________________________________________________\n",
      "Layer (type)                 Output Shape              Param #   \n",
      "=================================================================\n",
      "conv2d_1 (Conv2D)            (None, 30, 30, 32)        896       \n",
      "_________________________________________________________________\n",
      "batch_normalization_1 (Batch (None, 30, 30, 32)        128       \n",
      "_________________________________________________________________\n",
      "conv2d_2 (Conv2D)            (None, 28, 28, 64)        18496     \n",
      "_________________________________________________________________\n",
      "batch_normalization_2 (Batch (None, 28, 28, 64)        256       \n",
      "_________________________________________________________________\n",
      "max_pooling2d_1 (MaxPooling2 (None, 14, 14, 64)        0         \n",
      "_________________________________________________________________\n",
      "flatten_1 (Flatten)          (None, 12544)             0         \n",
      "_________________________________________________________________\n",
      "dense_1 (Dense)              (None, 256)               3211520   \n",
      "_________________________________________________________________\n",
      "dense_2 (Dense)              (None, 10)                2570      \n",
      "=================================================================\n",
      "Total params: 3,233,866\n",
      "Trainable params: 3,233,674\n",
      "Non-trainable params: 192\n",
      "_________________________________________________________________\n"
     ]
    }
   ],
   "source": [
    "classifier.summary()"
   ]
  },
  {
   "cell_type": "markdown",
   "metadata": {},
   "source": [
    "## 預測新圖片，輸入影像前處理要與訓練時相同\n",
    "#### ((X-mean)/(std+1e-7) ):這裡的mean跟std是訓練集的\n",
    "## 維度如下方示範"
   ]
  },
  {
   "cell_type": "code",
   "execution_count": 15,
   "metadata": {},
   "outputs": [
    {
     "data": {
      "text/plain": [
       "6"
      ]
     },
     "execution_count": 15,
     "metadata": {},
     "output_type": "execute_result"
    }
   ],
   "source": [
    "#input_example=(np.zeros(shape=(1,32,32,3))-mean_train)/(std_train+1e-7) \n",
    "y_pred = classifier.predict_classes(x_test)\n",
    "y_pred[0]\n"
   ]
  },
  {
   "cell_type": "code",
   "execution_count": 17,
   "metadata": {},
   "outputs": [
    {
     "data": {
      "text/plain": [
       "(10000, 10)"
      ]
     },
     "execution_count": 17,
     "metadata": {},
     "output_type": "execute_result"
    }
   ],
   "source": [
    "y_test.shape"
   ]
  },
  {
   "cell_type": "code",
   "execution_count": 18,
   "metadata": {},
   "outputs": [
    {
     "data": {
      "text/plain": [
       "3"
      ]
     },
     "execution_count": 18,
     "metadata": {},
     "output_type": "execute_result"
    }
   ],
   "source": [
    "y_true = np.argmax(y_test, axis=1)\n",
    "y_true[0]"
   ]
  },
  {
   "cell_type": "code",
   "execution_count": 19,
   "metadata": {},
   "outputs": [
    {
     "data": {
      "text/plain": [
       "0.6834"
      ]
     },
     "execution_count": 19,
     "metadata": {},
     "output_type": "execute_result"
    }
   ],
   "source": [
    "from sklearn.metrics import accuracy_score\n",
    "\n",
    "score = accuracy_score(y_true=y_true, y_pred=y_pred)\n",
    "score"
   ]
  },
  {
   "cell_type": "code",
   "execution_count": null,
   "metadata": {},
   "outputs": [],
   "source": []
  }
 ],
 "metadata": {
  "kernelspec": {
   "display_name": "Python 3",
   "language": "python",
   "name": "python3"
  },
  "language_info": {
   "codemirror_mode": {
    "name": "ipython",
    "version": 3
   },
   "file_extension": ".py",
   "mimetype": "text/x-python",
   "name": "python",
   "nbconvert_exporter": "python",
   "pygments_lexer": "ipython3",
   "version": "3.7.4"
  }
 },
 "nbformat": 4,
 "nbformat_minor": 2
}
